{
 "cells": [
  {
   "cell_type": "markdown",
   "metadata": {},
   "source": [
    "Arithmetic Operators in Python"
   ]
  },
  {
   "cell_type": "code",
   "execution_count": null,
   "metadata": {},
   "outputs": [],
   "source": [
    "a = 20\n",
    "b = 60\n",
    "\n",
    "# Addition(+)\n",
    "print(a + b)\n",
    "\n",
    "#Subtraction(-)\n",
    "print(a - b)\n",
    "\n",
    "# Multiplication(*)\n",
    "print(a * b)\n",
    "\n",
    "# Division(/)\n",
    "print(a /b )\n",
    "\n",
    "# Modulus(%)\n",
    "print(a % b)\n",
    "\n",
    "# Exponentiation(**)\n",
    "print(a ** b)\n",
    "\n",
    "# Floor division(//)\n",
    "print(a // b)"
   ]
  },
  {
   "cell_type": "markdown",
   "metadata": {},
   "source": [
    "Comparison Operators in Python"
   ]
  },
  {
   "cell_type": "code",
   "execution_count": null,
   "metadata": {},
   "outputs": [],
   "source": [
    "x = 8\n",
    "y = 4\n",
    "\n",
    "# Equal to (==)\n",
    "print(x == y)\n",
    "\n",
    "# Not Equal to(!=)\n",
    "print(x != y)\n",
    "\n",
    "# Less Than\n",
    "print(x < y)\n",
    "\n",
    "# Greater Than\n",
    "print(x > y)\n",
    "\n",
    "# Less than or equal to\n",
    "print(x <= y)\n",
    "\n",
    "# Greater than or equal to\n",
    "print(x >= y)\n"
   ]
  },
  {
   "cell_type": "markdown",
   "metadata": {},
   "source": [
    "Assignment Operators in Python"
   ]
  },
  {
   "cell_type": "code",
   "execution_count": null,
   "metadata": {},
   "outputs": [],
   "source": [
    "# Equal to(=)\n",
    "x = 3  \n",
    "\n",
    "# Addition Assignment Operator (+=) \n",
    "x += 3 #(x = x + 3)\n",
    "\n",
    "# Subtraction Assignment Operator (-=) \n",
    "x -= 3 #(x = x – 3)\n",
    "\n",
    "# Multiplication Assignment Operator (*=)\n",
    "x *= 3 #(x = x * 3)\n",
    "\n",
    "# Division Assignment Operator (/=)\n",
    "x /= 3 #(x = x / 3)\n",
    "\n",
    "# Modulus Assignment Operator (%=) \n",
    "x %= 3 #(x = x % 3)"
   ]
  },
  {
   "cell_type": "markdown",
   "metadata": {},
   "source": [
    "Logical Operators in Python"
   ]
  },
  {
   "cell_type": "code",
   "execution_count": null,
   "metadata": {},
   "outputs": [],
   "source": [
    "x = True\n",
    "y = False\n",
    "\n",
    "# and\n",
    "print(x and y)\n",
    "\n",
    "# or\n",
    "print(x or y)\n",
    "\n",
    "# not\n",
    "print(not x)"
   ]
  },
  {
   "cell_type": "markdown",
   "metadata": {},
   "source": [
    "Identity Operators in Python"
   ]
  },
  {
   "cell_type": "code",
   "execution_count": null,
   "metadata": {},
   "outputs": [],
   "source": [
    "x = ['apple', 'banana']\n",
    "y = ['apple', 'banana']\n",
    "     \n",
    "# is\n",
    "print(x is y)\n",
    "\n",
    "# Is not\n",
    "print(x is not y)"
   ]
  },
  {
   "cell_type": "markdown",
   "metadata": {},
   "source": [
    "Membership Operators in Python"
   ]
  },
  {
   "cell_type": "code",
   "execution_count": null,
   "metadata": {},
   "outputs": [],
   "source": [
    "x = ['apple', 'banana']\n",
    "     \n",
    "# in\n",
    "print('banana' in x)\n",
    "\n",
    "# not in\n",
    "print('orange' not in x)\n"
   ]
  },
  {
   "cell_type": "markdown",
   "metadata": {},
   "source": [
    "Bitwise Operators in Python"
   ]
  },
  {
   "cell_type": "code",
   "execution_count": null,
   "metadata": {},
   "outputs": [],
   "source": [
    "x = 10   # Binary: 1010\n",
    "y = 4    # Binary: 0100\n",
    "\n",
    "# Bitwise AND(&)\n",
    "print(x & y)\n",
    "\n",
    "# Bitwise OR(|)\n",
    "print(x | y)\n",
    "\n",
    "# Bitwise XOR(^)\n",
    "print(x ^ y)\n",
    "\n",
    "# Bitwise NOT(~)\n",
    "# print(x ~ y)\n",
    "\n",
    "# Left Shift(<<)\n",
    "print(x << 1)\n",
    "\n",
    "# Right Shift(>>)\n",
    "print(x >> 1)"
   ]
  },
  {
   "cell_type": "markdown",
   "metadata": {},
   "source": [
    "Data Types in Python"
   ]
  },
  {
   "cell_type": "code",
   "execution_count": null,
   "metadata": {},
   "outputs": [],
   "source": [
    "# Integer Data Type\n",
    "x = 10    \n",
    "y = 20   \n",
    "print(type(x))\n",
    "\n",
    "# Float Data Type\n",
    "x = 4.2\n",
    "y = 10.5\n",
    "print(type(x))\n",
    "\n",
    "# Boolean Data Type\n",
    "x = True                \n",
    "y = False\n",
    "print(type(x))\n",
    "\n",
    "# Complex Data Type\n",
    "x = 2 + 3i\n",
    "print(type(x)) \n",
    "\n",
    "# String data type\n",
    "my_string = \"Hello, World!\"\n",
    "print(my_string[0])   # Output: H\n",
    "print(my_string[7])   # Output: W\n",
    "print(my_string[-1])  # Output: !\n",
    "print(len(my_string)) # Output: 13\n",
    "\n",
    "string1 = \"Hello\"\n",
    "string2 = \"Intellipaat\"\n",
    "result = string1 + \", \" + string2 + \"!\"\n",
    "print(result)  # Output: Hello, Intellipaat!\n",
    "\n",
    "# String Methods\n",
    "# replace()\n",
    "# split()\n",
    "# join()\n",
    "# lower()\n",
    "# upper()\n",
    "# strip()\n",
    "# find()"
   ]
  },
  {
   "cell_type": "markdown",
   "metadata": {},
   "source": [
    "STRING SLICING"
   ]
  },
  {
   "cell_type": "code",
   "execution_count": null,
   "metadata": {},
   "outputs": [],
   "source": [
    "s = \"Python\"\n",
    "\n",
    "print(s[2:5])   # Output: tho\n",
    "print(s[:4])    # Output: Pyth\n",
    "print(s[3:])    # Output: hon"
   ]
  },
  {
   "cell_type": "markdown",
   "metadata": {},
   "source": [
    "Escape Characters"
   ]
  },
  {
   "cell_type": "code",
   "execution_count": null,
   "metadata": {},
   "outputs": [],
   "source": [
    "print(\"This is a \\\"quote\\\" inside a string.\")\n",
    "\n",
    "print(\"This is a \\nnew line.\")"
   ]
  },
  {
   "cell_type": "markdown",
   "metadata": {},
   "source": [
    "String Formatting"
   ]
  },
  {
   "cell_type": "code",
   "execution_count": null,
   "metadata": {},
   "outputs": [],
   "source": [
    "from string import Template\n",
    "\n",
    "name = \"Alice\"\n",
    "age = 30\n",
    "\n",
    "print(\"Name: %s, Age: %d\" % (name, age))\n",
    "\n",
    "print(\"Name: {}, Age: {}\".format(name, age))\n",
    "\n",
    "print(f\"Name: {name}, Age: {age}\")\n",
    "\n",
    "template = Template(\"Name: $name, Age: $age\")\n",
    "print(template.substitute(name=name, age=age))"
   ]
  },
  {
   "cell_type": "markdown",
   "metadata": {},
   "source": [
    "Lists in Python"
   ]
  },
  {
   "cell_type": "code",
   "execution_count": null,
   "metadata": {},
   "outputs": [],
   "source": [
    "my_list = [1, 2, 3, 4, 5]\n",
    "\n",
    "print(my_list[0])\n",
    "\n",
    "print(my_list[2])\n",
    "\n",
    "print(my_list[-1])\n",
    "\n",
    "print(len(my_list))\n",
    "\n",
    "print(my_list[1:3])\n",
    "\n",
    "print(my_list[:3])\n",
    "\n",
    "print(my_list[3:])\n",
    "\n",
    "# append()\n",
    "my_list.append(6)\n",
    "\n",
    "# insert()\n",
    "my_list.insert(2,10)\n",
    "\n",
    "# pop()\n",
    "my_list.pop()\n",
    "\n",
    "# sort()\n",
    "my_list.sort()\n",
    "\n",
    "# reverse()\t\n",
    "my_list.reverse()\n",
    "\n",
    "# Checking the Membership operator in the list \n",
    "print(4 in my_list)\n",
    "print(6 in my_list)\n",
    "\n",
    "# List Comprehensions\n",
    "squares = [x**2 for x in range(5)]\n",
    "print(squares) \n",
    "\n",
    "# Nested Lists\n",
    "matrix = [[1, 2, 3], [4, 5, 6], [7, 8, 9]]\n",
    "print(matrix[1][2])\n",
    "\n",
    "# Copying Lists\n",
    "original_list = [1, 2, 3]\n",
    "copied_list = original_list.copy()\n",
    "\n"
   ]
  },
  {
   "cell_type": "markdown",
   "metadata": {},
   "source": [
    "Dictionary"
   ]
  },
  {
   "cell_type": "code",
   "execution_count": null,
   "metadata": {},
   "outputs": [],
   "source": [
    "# Creating a dictionary\n",
    "my_dict = {\"key1\": \"value1\", \"key2\": \"value2\", \"key3\": \"value3\"}\n",
    "\n",
    "# Accessing values in a dictionary\n",
    "print(my_dict[\"key1\"])\n",
    "print(my_dict[\"key2\"])\n",
    "\n",
    "# Length of a dictionary\n",
    "print(len(my_dict))\n",
    "\n",
    "# Dictionary Methods\n",
    "\n",
    "my_dict[\"key4\"] = \"value4\"\n",
    "\n",
    "print(my_dict)\n",
    "\n",
    "my_dict[\"key1\"] = \"new_value\"\n",
    "print(my_dict)\n",
    "\n",
    "# Removing key-value pairs\n",
    "del my_dict[\"key3\"]\n",
    "print(my_dict)\n",
    "\n",
    "my_dict.pop(\"key2\")\n",
    "print(my_dict)\n",
    "\n",
    "# Clearing a dictionary\n",
    "my_dict.clear()\n",
    "\n",
    "\n",
    "# Dictionary Iteration\n",
    "\n",
    "# Iterating over keys\n",
    "my_dict1 = {\"key1\": \"value1\", \"key2\": \"value2\", \"key3\": \"value3\"}\n",
    "for key in my_dict1:\n",
    "  print(key)\n",
    "\n",
    "\n",
    "# Iterating over values\n",
    "for value in my_dict1.values():\n",
    "  print(value)\n",
    "\n",
    "# Iterating over key-value pairs\n",
    "for key, value in my_dict1.items():\n",
    "  print(key, value)\n",
    "\n",
    "\n",
    "# Dictionary Comprehensions\n",
    "squares = {x: x**2 for x in range(5)}\n",
    "print(squares)\n",
    "\n",
    "# Nested Dictionaries\n",
    "nested_dict = {\"key1\": {\"nested_key1\": \"nested_value1\"}, \"key2\": {\"nested_key2\": \"nested_value2\"}}\n",
    "print(nested_dict[\"key1\"][\"nested_key1\"]) \n"
   ]
  },
  {
   "cell_type": "markdown",
   "metadata": {},
   "source": [
    "Tuple in Python"
   ]
  },
  {
   "cell_type": "code",
   "execution_count": null,
   "metadata": {},
   "outputs": [],
   "source": [
    "# Creating a Tuple:\n",
    "my_tuple = (1, 2, 3, 4, 5)\n",
    "\n",
    "# Accessing Elements in tuple:\n",
    "first_element = my_tuple[0]\n",
    "last_element = my_tuple[-1]\n",
    "\n",
    "# Length of a Tuple:\n",
    "length = len(my_tuple)\n",
    "\n",
    "# Iterating Over a Tuple:\n",
    "for item in my_tuple:\n",
    "  print(item)\n",
    "\n",
    "# Tuple Concatenation:\n",
    "tuple1 = (1, 2, 3)\n",
    "tuple2 = (4, 5, 6)\n",
    "concatenated_tuple = tuple1 + tuple2\n",
    "print(concatenated_tuple)\n",
    "\n",
    "# Tuple Repetition:\n",
    "repeated_tuple = (1, 2) * 3\n",
    "print(repeated_tuple)\n",
    "\n",
    "# Checking if an Element Exists in a tuple:\n",
    "if 3 in my_tuple:\n",
    "  print(\"3 is present in the tuple\")\n",
    "\n",
    "# Tuple Methods:\n",
    "count = my_tuple.count(3)\n",
    "print(count)\n",
    "\n",
    "# Finding the Index of an Element in tuple:\n",
    "index = my_tuple.index(3)\n",
    "print(index)\n",
    "\n",
    "# Immutability:\n",
    "my_tuple[0] = 10  # This will raise an error\n",
    "\n",
    "\n",
    "# Unpacking Tuples:\n",
    "x, y, z = my_tuple\n",
    "\n",
    "first, *middle, last = my_tuple"
   ]
  },
  {
   "cell_type": "markdown",
   "metadata": {},
   "source": [
    "Sets in Python"
   ]
  },
  {
   "cell_type": "code",
   "execution_count": null,
   "metadata": {},
   "outputs": [],
   "source": [
    "#Creating a Set\n",
    "\n",
    "# Set with normal elements\n",
    "my_set = {1, 2, 3, 4, 5}\n",
    "\n",
    "# Set with a list as an element\n",
    "my_set = {[1,2,3,4,5]}\n",
    "\n",
    "# Adding an element in Set\n",
    "my_set.add(4)\n",
    "\n",
    "# Checking the length of the Set\n",
    "len(my_set)\n",
    "\n",
    "# Set Methods\n",
    "\n",
    "# add()\n",
    "my_set.add(10)\n",
    "\n",
    "# pop()\n",
    "my_set.pop()\n",
    "\n",
    "# remove()\n",
    "my_set.remove(10)\n",
    "\n",
    "# update()\n",
    "my_set.update([7,8,9])\n",
    "\n",
    "# clear()\n",
    "my_set.clear()\n",
    "# union\n",
    "my_set1 = {9,5}\n",
    "my_set.union(my_set1)\n",
    "\n",
    "# intersection\n",
    "my_set.intersection(my_set1)\n",
    "\n",
    "# Set Comprehensions\n",
    "x = {0,1,2,3,4}\n",
    "squares = {x**2 for x in range(5)}\n",
    "print(squares)\n",
    "\n",
    "# Frozen Set\n",
    "frozen_set = frozenset([1, 2, 3, 4, 5])\n",
    "print(1 in frozen_set) "
   ]
  },
  {
   "cell_type": "markdown",
   "metadata": {},
   "source": [
    "Flow Control Statements in Python"
   ]
  },
  {
   "cell_type": "code",
   "execution_count": null,
   "metadata": {},
   "outputs": [],
   "source": [
    "# If Statement\n",
    "\n",
    "x = 10 \n",
    "\n",
    "if x > 5:\n",
    "  print('x is greater than 5')\n",
    "\n",
    "\n",
    "# If-else statement\n",
    "x = 4\n",
    "if x > 5:\n",
    "  print(\"x is greater than 5\")\n",
    "else:\n",
    "  print(\"x is less than or equal to 5\")\n",
    "\n",
    "\n",
    "\n",
    "# If-elif-else statement\n",
    "x = 3\n",
    "if x > 5:\n",
    "    print(\"x is greater than 5\")\n",
    "elif x == 5:\n",
    "    print(\"x is equal to 5\")\n",
    "else:          \n",
    "    print(\"x is less than 5\")\n",
    "\n",
    "\n",
    "# Nested if Statements\n",
    "x = 10\n",
    "if x > 5:   # Check for the condition that goes inside the block\n",
    "  if x == 15:   # Again checks for the condition, if True moves inside the if block\n",
    "    print(\"x is between 5 and 15\")  # Runs if the condition is True\n",
    "  else:\n",
    "    print(\"x is greater than or equal to 15\")  # Runs if the conditionis False\n",
    "else:\n",
    "  print(\"x is less than or equal to 5\")  # Runs if the condition is False\n",
    "\n"
   ]
  },
  {
   "cell_type": "markdown",
   "metadata": {},
   "source": [
    "Logical Operators with Conditional Statements"
   ]
  },
  {
   "cell_type": "code",
   "execution_count": null,
   "metadata": {},
   "outputs": [],
   "source": [
    "# AND Operator\n",
    "x = 10\n",
    "y = 6\n",
    "if x > 5 and y > 5:   # Checks for both the condition\n",
    "  print(\"Both x and y are greater than 5\")  \n",
    "\n",
    "\n",
    "# OR Operator\n",
    "x =2\n",
    "y = 6\n",
    "if x > 5 or y > 5:   # Checks for both the condition\n",
    "  print(\"Either x or y is greater than 5\") \n",
    "\n",
    "# NOT Operator\n",
    "x = 5\n",
    "y = 6\n",
    "if not x == y:  # Checks for the condition\n",
    "  print(\"x is not equal to y\") \n",
    "\n",
    "# break Statement\n",
    "i = 0\n",
    "while i < 5:\n",
    "  if i == 3:\n",
    "    break   # The loop will exit \n",
    "\n",
    "\n",
    "# continue Statement\n",
    "i = 0\n",
    "while i < 5:\n",
    "  if i == 3:\n",
    "    continue   # The loop will exit \n",
    "\n",
    "\n"
   ]
  },
  {
   "cell_type": "markdown",
   "metadata": {},
   "source": [
    "For Loop in Python"
   ]
  },
  {
   "cell_type": "code",
   "execution_count": null,
   "metadata": {},
   "outputs": [],
   "source": [
    "# Iterating Over a Range using for loop\n",
    "for i in range(5):\n",
    "  print(i)\n",
    "\n",
    "\n",
    "# Iterating Over a Sequence of lists using for loop\n",
    "my_list = [1, 2, 3, 4, 5]\n",
    "for item in my_list:\n",
    "  print(item)\n",
    "\n",
    "# Nested for Loop\n",
    "for i in range(3):\n",
    "  for j in range(2):\n",
    "    print(i, j)\n"
   ]
  },
  {
   "cell_type": "markdown",
   "metadata": {},
   "source": [
    "While Loop in Python"
   ]
  },
  {
   "cell_type": "code",
   "execution_count": null,
   "metadata": {},
   "outputs": [],
   "source": [
    "i = 0\n",
    "while i < 5:\n",
    "  print(i)\n",
    "  i += 1"
   ]
  },
  {
   "cell_type": "markdown",
   "metadata": {},
   "source": [
    "Python Random Module"
   ]
  },
  {
   "cell_type": "code",
   "execution_count": null,
   "metadata": {},
   "outputs": [],
   "source": [
    "import random\n",
    "\n",
    "# seed() method\n",
    "random.seed(42)\n",
    "print(random.random())\n",
    "print(random.random())\n",
    "\n",
    "# randint() method\n",
    "random_number = random.randint(-100, 100)\n",
    "print(\"Random number between -100 and 100:\", random_number)\n",
    "\n",
    "die_roll = random.randint(1, 6)\n",
    "print(\"Die roll result:\", die_roll)\n",
    "\n",
    "# choice() method\n",
    "names = ['Sophia', 'Liam', 'Olivia', 'Noah']\n",
    "random_name = random.choice(names)\n",
    "print(\"Randomly selected name:\", random_name)\n",
    "\n",
    "# shuffle() method\n",
    "numbers = [1, 2, 3, 4, 5]\n",
    "random.shuffle(numbers)\n",
    "print(\"Shuffled list:\", numbers)\n",
    "\n",
    "# sample() method\n",
    "letters = ['a', 'b', 'c', 'd', 'e']\n",
    "sampled_letters = random.sample(letters, 3)\n",
    "print(\"Sampled letters:\", sampled_letters)\n",
    "\n",
    "# random() method\n",
    "random_number = random.random()\n",
    "print(\"Random number:\", random_number)\n",
    "\n",
    "\n",
    "# uniform() method\n",
    "random_number = random.uniform(3.0, 7.0)\n",
    "print(\"Random number:\", random_number)"
   ]
  },
  {
   "cell_type": "markdown",
   "metadata": {},
   "source": [
    "Functions in Python "
   ]
  },
  {
   "cell_type": "code",
   "execution_count": null,
   "metadata": {},
   "outputs": [],
   "source": [
    "def function_name(parameters):\n",
    "  \"\"\"function_docstring\"\"\"\n",
    "  # function body\n",
    "  return result"
   ]
  },
  {
   "cell_type": "code",
   "execution_count": null,
   "metadata": {},
   "outputs": [],
   "source": [
    "# Built-in Functions\n",
    "\n",
    "# print()\n",
    "\n",
    "# len()\n",
    "\n",
    "# input()\n",
    "\n",
    "# type()\n",
    "\n",
    "# range()\n",
    "\n",
    "# sum()\n",
    "\n",
    "# abs()\n",
    "\n",
    "# sorted()\n",
    "\n",
    "# max()"
   ]
  },
  {
   "cell_type": "markdown",
   "metadata": {},
   "source": [
    "Parameters and Arguments:"
   ]
  },
  {
   "cell_type": "code",
   "execution_count": null,
   "metadata": {},
   "outputs": [],
   "source": [
    "def greet(name, message):\n",
    "  print(message + \", \" + name)\n",
    "\n",
    "greet(message=\"Good morning\", name=\"Intellipaat\") "
   ]
  },
  {
   "cell_type": "markdown",
   "metadata": {},
   "source": [
    "Returning Values from Functions:"
   ]
  },
  {
   "cell_type": "code",
   "execution_count": null,
   "metadata": {},
   "outputs": [],
   "source": [
    "def minus(x, y):\n",
    "  return x - y\n",
    "\n",
    "result = minus(3, 5)"
   ]
  },
  {
   "cell_type": "markdown",
   "metadata": {},
   "source": [
    "Local and Global Scope:"
   ]
  },
  {
   "cell_type": "code",
   "execution_count": null,
   "metadata": {},
   "outputs": [],
   "source": [
    "# Local Scope: \n",
    "def my_function():\n",
    "  x = 10  # Local variable\n",
    "  print(\"Inside function:\", x)\n",
    "\n",
    "my_function()\n",
    "\n",
    "# Global Scope:\n",
    "y = 20  # Global variable\n",
    "def my_function():\n",
    "  print(\"Inside function accessing global variable:\", y)\n",
    "\n",
    "my_function()\n",
    "\n",
    "\n",
    "z = 30  # Global variable\n",
    "def modify_global_variable():\n",
    "  global z\n",
    "  z += 5  # Modifying the global variable\n",
    "  print(\"Before modification:\", z)\n",
    "\n",
    "modify_global_variable()\n",
    "print(\"After modification:\", z)\n",
    "\n",
    "# Default Parameters:\n",
    "def greet(name='Intellipaat'):\n",
    "  print(\"Hello, \" + name)\n",
    "\n",
    "greet()      \n",
    "greet(\"Ankit\")\n"
   ]
  },
  {
   "cell_type": "markdown",
   "metadata": {},
   "source": [
    "Arbitrary Number of Arguments:"
   ]
  },
  {
   "cell_type": "code",
   "execution_count": null,
   "metadata": {},
   "outputs": [],
   "source": [
    "# *args: \n",
    "def sum_all(*args):\n",
    "  total = 0\n",
    "  for num in args:\n",
    "    total += num\n",
    "  return total\n",
    "\n",
    "print(sum_all(1, 2, 3, 4))\n",
    "\n",
    "# Kwargs:\n",
    "def display_info(**kwargs):\n",
    "  for key, value in kwargs.items():\n",
    "    print(f\"{key}: {value}\")\n",
    "\n",
    "# Calling the function with keyword arguments\n",
    "display_info(name=\"Alice\", age=30, city=\"New York\") "
   ]
  },
  {
   "cell_type": "markdown",
   "metadata": {},
   "source": [
    "Lambda Functions (Anonymous Functions):"
   ]
  },
  {
   "cell_type": "code",
   "execution_count": null,
   "metadata": {},
   "outputs": [],
   "source": [
    "square = lambda x: x * 2\n",
    "print(square(5))"
   ]
  },
  {
   "cell_type": "markdown",
   "metadata": {},
   "source": [
    "Recursive Functions:"
   ]
  },
  {
   "cell_type": "code",
   "execution_count": null,
   "metadata": {},
   "outputs": [],
   "source": [
    "def factorial(a):\n",
    "  if a == 0:\n",
    "    return 1 \n",
    "  else:\n",
    "    return a * factorial(a-1)\n",
    "\n",
    "print(factorial(5)) "
   ]
  },
  {
   "cell_type": "markdown",
   "metadata": {},
   "source": [
    "##### Regex in Python:"
   ]
  },
  {
   "cell_type": "code",
   "execution_count": null,
   "metadata": {},
   "outputs": [],
   "source": [
    "# Normal Characters:\n",
    "import re\n",
    "pattern = r'apple'\n",
    "text = 'I like apples'\n",
    "match = re.search(pattern, text)\n",
    "\n",
    "if match:\n",
    "  print('Found:', match.group())"
   ]
  },
  {
   "cell_type": "code",
   "execution_count": null,
   "metadata": {},
   "outputs": [],
   "source": [
    "# Character Classes:\n",
    "import re\n",
    "pattern = r'[aeiou]'\n",
    "text = 'I like apples'\n",
    "match = re.search(pattern, text)\n",
    "\n",
    "if match:\n",
    "  print('Found:', match.group())  "
   ]
  },
  {
   "cell_type": "code",
   "execution_count": null,
   "metadata": {},
   "outputs": [],
   "source": [
    "# Quantifiers:\n",
    "import re\n",
    "pattern = r'ap*le'\n",
    "text = 'I like apple'\n",
    "\n",
    "match = re.search(pattern, text)\n",
    "\n",
    "if match:\n",
    "  print('Found:', match.group())"
   ]
  },
  {
   "cell_type": "code",
   "execution_count": null,
   "metadata": {},
   "outputs": [],
   "source": [
    "# Anchors:\n",
    "import re\n",
    "pattern = r'^I'\n",
    "text = 'I like apples'\n",
    "\n",
    "match = re.search(pattern, text)\n",
    "if match:\n",
    "  print('Found:', match.group())"
   ]
  },
  {
   "cell_type": "code",
   "execution_count": null,
   "metadata": {},
   "outputs": [],
   "source": [
    "# Groups and Capturing:\n",
    "import re\n",
    "pattern = r'(app)les'\n",
    "text = 'I like apples'\n",
    "\n",
    "match = re.search(pattern, text)\n",
    "if match:\n",
    "  print('Found:', match.group(1))"
   ]
  },
  {
   "cell_type": "code",
   "execution_count": null,
   "metadata": {},
   "outputs": [],
   "source": [
    "# Modifiers:\n",
    "import re\n",
    "pattern = r'apple'\n",
    "text = 'I like Apples'\n",
    "\n",
    "match = re.search(pattern, text, re.IGNORECASE)\n",
    "if match:\n",
    "  print('Found:', match.group())"
   ]
  }
 ],
 "metadata": {
  "kernelspec": {
   "display_name": ".env",
   "language": "python",
   "name": "python3"
  },
  "language_info": {
   "codemirror_mode": {
    "name": "ipython",
    "version": 3
   },
   "file_extension": ".py",
   "mimetype": "text/x-python",
   "name": "python",
   "nbconvert_exporter": "python",
   "pygments_lexer": "ipython3",
   "version": "3.12.2"
  }
 },
 "nbformat": 4,
 "nbformat_minor": 2
}
